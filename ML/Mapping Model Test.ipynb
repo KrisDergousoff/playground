{
 "cells": [
  {
   "cell_type": "code",
   "execution_count": 1,
   "id": "2429ed7f",
   "metadata": {},
   "outputs": [],
   "source": [
    "import numpy\n",
    "from sklearn import preprocessing\n",
    "from sklearn.model_selection import train_test_split\n",
    "from sklearn.tree import DecisionTreeClassifier"
   ]
  },
  {
   "cell_type": "code",
   "execution_count": 2,
   "id": "901d6ab0",
   "metadata": {},
   "outputs": [],
   "source": [
    "# Data Collection and Preparation: Gather a dataset that contains pairs of \"features\" and corresponding \"products.\" \n",
    "# Ensure that the dataset covers a wide range of features and their associated products. \n",
    "# Clean the dataset by removing any irrelevant or inconsistent data.\n",
    "\n",
    "data = {\n",
    "    'source': [\n",
    "        'jira', 'jira', 'jira', 'jira', 'jira', 'jira', 'jira',\n",
    "        'github', 'github', 'github', 'github', 'github', 'github',\n",
    "        'confluence', 'confluence', 'confluence', 'confluence'\n",
    "              ], \n",
    "    'feature': [\n",
    "        'story', 'epic', 'ticket', 'bug', 'request', 'customer', 'roadmap',\n",
    "        'repository', 'codebase', 'readme', 'PR', 'change', 'review',\n",
    "        'wiki', 'document', 'diagram', 'figure'\n",
    "    ]\n",
    "}"
   ]
  },
  {
   "cell_type": "code",
   "execution_count": 3,
   "id": "89d7c2f6",
   "metadata": {},
   "outputs": [
    {
     "data": {
      "text/plain": [
       "array([2, 2, 2, 2, 2, 2, 2, 1, 1, 1, 1, 1, 1, 0, 0, 0, 0])"
      ]
     },
     "execution_count": 3,
     "metadata": {},
     "output_type": "execute_result"
    }
   ],
   "source": [
    "# Label Encoding: Assign a unique numerical label to each distinct \"source\" in the dataset. \n",
    "# This step is necessary to convert the target variable into a numeric form that can be used for training the model.\n",
    "\n",
    "sources = data['source']\n",
    "source_encoder = preprocessing.LabelEncoder()\n",
    "source_enc = source_encoder.fit_transform(sources)\n",
    "source_enc"
   ]
  },
  {
   "cell_type": "code",
   "execution_count": 4,
   "id": "30426377",
   "metadata": {},
   "outputs": [
    {
     "data": {
      "text/plain": [
       "array([14,  7, 15,  1, 11,  4, 13, 10,  3,  9,  0,  2, 12, 16,  6,  5,  8])"
      ]
     },
     "execution_count": 4,
     "metadata": {},
     "output_type": "execute_result"
    }
   ],
   "source": [
    "# Since our input space is made up of many to one mappings we can encode our 1D array of \"features\" the same way\n",
    "# with a label encoder.\n",
    "\n",
    "features = data['feature']\n",
    "feature_encoder = preprocessing.LabelEncoder()\n",
    "feature_enc = feature_encoder.fit_transform(features)\n",
    "feature_enc"
   ]
  },
  {
   "cell_type": "code",
   "execution_count": 5,
   "id": "143e46ce",
   "metadata": {},
   "outputs": [],
   "source": [
    "# Model Training: Choose an appropriate machine learning algorithm for your task, such as a decision tree, \n",
    "# random forest, or neural network. Split the dataset into training and testing sets to evaluate the model's performance. \n",
    "# Feed the preprocessed \"features\" and corresponding encoded \"products\" into the model for training.\n",
    "X_train, X_test, y_train, y_test = train_test_split(feature_enc, source_enc, random_state=0)"
   ]
  },
  {
   "cell_type": "code",
   "execution_count": 6,
   "id": "ff9c3f5f",
   "metadata": {},
   "outputs": [
    {
     "data": {
      "text/plain": [
       "(array([11, 15,  6,  0, 10,  8,  2,  1, 14,  4,  5, 12]),\n",
       " array([2, 2, 0, 1, 1, 0, 1, 2, 2, 2, 0, 1]),\n",
       " array([ 7, 13,  3,  9, 16]),\n",
       " array([2, 2, 1, 1, 0]))"
      ]
     },
     "execution_count": 6,
     "metadata": {},
     "output_type": "execute_result"
    }
   ],
   "source": [
    "X_train, y_train, X_test, y_test"
   ]
  },
  {
   "cell_type": "code",
   "execution_count": 7,
   "id": "4bb6c84f",
   "metadata": {},
   "outputs": [
    {
     "data": {
      "text/html": [
       "<style>#sk-container-id-1 {color: black;background-color: white;}#sk-container-id-1 pre{padding: 0;}#sk-container-id-1 div.sk-toggleable {background-color: white;}#sk-container-id-1 label.sk-toggleable__label {cursor: pointer;display: block;width: 100%;margin-bottom: 0;padding: 0.3em;box-sizing: border-box;text-align: center;}#sk-container-id-1 label.sk-toggleable__label-arrow:before {content: \"▸\";float: left;margin-right: 0.25em;color: #696969;}#sk-container-id-1 label.sk-toggleable__label-arrow:hover:before {color: black;}#sk-container-id-1 div.sk-estimator:hover label.sk-toggleable__label-arrow:before {color: black;}#sk-container-id-1 div.sk-toggleable__content {max-height: 0;max-width: 0;overflow: hidden;text-align: left;background-color: #f0f8ff;}#sk-container-id-1 div.sk-toggleable__content pre {margin: 0.2em;color: black;border-radius: 0.25em;background-color: #f0f8ff;}#sk-container-id-1 input.sk-toggleable__control:checked~div.sk-toggleable__content {max-height: 200px;max-width: 100%;overflow: auto;}#sk-container-id-1 input.sk-toggleable__control:checked~label.sk-toggleable__label-arrow:before {content: \"▾\";}#sk-container-id-1 div.sk-estimator input.sk-toggleable__control:checked~label.sk-toggleable__label {background-color: #d4ebff;}#sk-container-id-1 div.sk-label input.sk-toggleable__control:checked~label.sk-toggleable__label {background-color: #d4ebff;}#sk-container-id-1 input.sk-hidden--visually {border: 0;clip: rect(1px 1px 1px 1px);clip: rect(1px, 1px, 1px, 1px);height: 1px;margin: -1px;overflow: hidden;padding: 0;position: absolute;width: 1px;}#sk-container-id-1 div.sk-estimator {font-family: monospace;background-color: #f0f8ff;border: 1px dotted black;border-radius: 0.25em;box-sizing: border-box;margin-bottom: 0.5em;}#sk-container-id-1 div.sk-estimator:hover {background-color: #d4ebff;}#sk-container-id-1 div.sk-parallel-item::after {content: \"\";width: 100%;border-bottom: 1px solid gray;flex-grow: 1;}#sk-container-id-1 div.sk-label:hover label.sk-toggleable__label {background-color: #d4ebff;}#sk-container-id-1 div.sk-serial::before {content: \"\";position: absolute;border-left: 1px solid gray;box-sizing: border-box;top: 0;bottom: 0;left: 50%;z-index: 0;}#sk-container-id-1 div.sk-serial {display: flex;flex-direction: column;align-items: center;background-color: white;padding-right: 0.2em;padding-left: 0.2em;position: relative;}#sk-container-id-1 div.sk-item {position: relative;z-index: 1;}#sk-container-id-1 div.sk-parallel {display: flex;align-items: stretch;justify-content: center;background-color: white;position: relative;}#sk-container-id-1 div.sk-item::before, #sk-container-id-1 div.sk-parallel-item::before {content: \"\";position: absolute;border-left: 1px solid gray;box-sizing: border-box;top: 0;bottom: 0;left: 50%;z-index: -1;}#sk-container-id-1 div.sk-parallel-item {display: flex;flex-direction: column;z-index: 1;position: relative;background-color: white;}#sk-container-id-1 div.sk-parallel-item:first-child::after {align-self: flex-end;width: 50%;}#sk-container-id-1 div.sk-parallel-item:last-child::after {align-self: flex-start;width: 50%;}#sk-container-id-1 div.sk-parallel-item:only-child::after {width: 0;}#sk-container-id-1 div.sk-dashed-wrapped {border: 1px dashed gray;margin: 0 0.4em 0.5em 0.4em;box-sizing: border-box;padding-bottom: 0.4em;background-color: white;}#sk-container-id-1 div.sk-label label {font-family: monospace;font-weight: bold;display: inline-block;line-height: 1.2em;}#sk-container-id-1 div.sk-label-container {text-align: center;}#sk-container-id-1 div.sk-container {/* jupyter's `normalize.less` sets `[hidden] { display: none; }` but bootstrap.min.css set `[hidden] { display: none !important; }` so we also need the `!important` here to be able to override the default hidden behavior on the sphinx rendered scikit-learn.org. See: https://github.com/scikit-learn/scikit-learn/issues/21755 */display: inline-block !important;position: relative;}#sk-container-id-1 div.sk-text-repr-fallback {display: none;}</style><div id=\"sk-container-id-1\" class=\"sk-top-container\"><div class=\"sk-text-repr-fallback\"><pre>DecisionTreeClassifier(random_state=0)</pre><b>In a Jupyter environment, please rerun this cell to show the HTML representation or trust the notebook. <br />On GitHub, the HTML representation is unable to render, please try loading this page with nbviewer.org.</b></div><div class=\"sk-container\" hidden><div class=\"sk-item\"><div class=\"sk-estimator sk-toggleable\"><input class=\"sk-toggleable__control sk-hidden--visually\" id=\"sk-estimator-id-1\" type=\"checkbox\" checked><label for=\"sk-estimator-id-1\" class=\"sk-toggleable__label sk-toggleable__label-arrow\">DecisionTreeClassifier</label><div class=\"sk-toggleable__content\"><pre>DecisionTreeClassifier(random_state=0)</pre></div></div></div></div></div>"
      ],
      "text/plain": [
       "DecisionTreeClassifier(random_state=0)"
      ]
     },
     "execution_count": 7,
     "metadata": {},
     "output_type": "execute_result"
    }
   ],
   "source": [
    "# Decision Tree Classifier expects a 2d array so reshape our 1d\n",
    "X_train = X_train.reshape(-1, 1)\n",
    "\n",
    "dt = DecisionTreeClassifier(random_state=0)\n",
    "dt.fit(X_train, y_train)"
   ]
  },
  {
   "cell_type": "code",
   "execution_count": 8,
   "id": "696991d4",
   "metadata": {},
   "outputs": [],
   "source": [
    "# Prediction: Once the model is trained and evaluated, you can use it to make predictions on new natural language \n",
    "# prompts. Preprocess the prompt in the same way as during training, convert it into numerical features, and pass \n",
    "# it through the trained model. The model will output the predicted label or \"product\" based on the given prompt.\n",
    "\n",
    "# Decision Tree Classifier expects a 2d array so reshape our 1d\n",
    "X_test = X_test.reshape(-1, 1)\n",
    "y_pred = dt.predict(X_test)"
   ]
  },
  {
   "cell_type": "code",
   "execution_count": 9,
   "id": "d9b9fef6",
   "metadata": {},
   "outputs": [
    {
     "name": "stdout",
     "output_type": "stream",
     "text": [
      "Test input: ['epic' 'roadmap' 'codebase' 'readme' 'wiki']\n",
      "Test output: ['confluence' 'github' 'github' 'confluence' 'jira']\n",
      "Expected output: ['jira' 'jira' 'github' 'github' 'confluence']\n"
     ]
    },
    {
     "name": "stderr",
     "output_type": "stream",
     "text": [
      "/Users/kristen/.pyenv/versions/3.8.16/lib/python3.8/site-packages/sklearn/preprocessing/_label.py:155: DataConversionWarning: A column-vector y was passed when a 1d array was expected. Please change the shape of y to (n_samples, ), for example using ravel().\n",
      "  y = column_or_1d(y, warn=True)\n"
     ]
    }
   ],
   "source": [
    "# Post-processing: If the model's prediction is in the form of numerical labels, \n",
    "# you can reverse the label encoding to obtain the actual \"product\" value.\n",
    "print(f'Test input: {feature_encoder.inverse_transform(X_test)}')\n",
    "print(f'Test output: {source_encoder.inverse_transform(y_pred)}')\n",
    "\n",
    "print(f'Expected output: {source_encoder.inverse_transform(y_test)}')"
   ]
  },
  {
   "cell_type": "code",
   "execution_count": 10,
   "id": "488efeae",
   "metadata": {},
   "outputs": [],
   "source": [
    "# Iterative Refinement: Continuously monitor and analyze the model's performance. Collect additional data if needed \n",
    "# and retrain the model to improve its accuracy and generalization capabilities."
   ]
  },
  {
   "cell_type": "code",
   "execution_count": 11,
   "id": "567c51d3",
   "metadata": {},
   "outputs": [],
   "source": [
    "# Feature Extraction: Convert the natural language prompts into numerical features that can be used as input for \n",
    "# the machine learning model. This step involves transforming the text into a format that the model can understand. \n",
    "# Techniques like tokenization, stemming, or lemmatization can be used to preprocess the text and extract relevant \n",
    "# information.\n",
    "\n",
    "test_prompt = \"Where can I find the code for image-manager?\"\n",
    "\n",
    "# Step 1. Lemmatize the prompt\n",
    "# TODO???"
   ]
  },
  {
   "cell_type": "code",
   "execution_count": null,
   "id": "9a125d1e",
   "metadata": {},
   "outputs": [],
   "source": []
  }
 ],
 "metadata": {
  "kernelspec": {
   "display_name": "Python 3 (ipykernel)",
   "language": "python",
   "name": "python3"
  },
  "language_info": {
   "codemirror_mode": {
    "name": "ipython",
    "version": 3
   },
   "file_extension": ".py",
   "mimetype": "text/x-python",
   "name": "python",
   "nbconvert_exporter": "python",
   "pygments_lexer": "ipython3",
   "version": "3.8.16"
  }
 },
 "nbformat": 4,
 "nbformat_minor": 5
}
